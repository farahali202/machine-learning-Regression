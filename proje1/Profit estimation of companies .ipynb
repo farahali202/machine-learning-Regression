{
 "cells": [
  {
   "cell_type": "markdown",
   "id": "7d80cff3",
   "metadata": {},
   "source": [
    "# Profit estimation of companies \n",
    "The dataset you described consists of sample data for 1000 startup companies, focusing on their operating costs and profits."
   ]
  },
  {
   "cell_type": "markdown",
   "id": "a3bc3a4f",
   "metadata": {},
   "source": [
    "# Exploratory data analysis "
   ]
  },
  {
   "cell_type": "code",
   "execution_count": 1,
   "id": "55bdd9c0",
   "metadata": {},
   "outputs": [],
   "source": [
    "#importing libraries\n",
    "import numpy as np\n",
    "import pandas as pd\n",
    "import matplotlib.pyplot as plt\n",
    "import seaborn as sns\n",
    "%matplotlib inline"
   ]
  },
  {
   "cell_type": "code",
   "execution_count": 2,
   "id": "f09249f1",
   "metadata": {},
   "outputs": [
    {
     "data": {
      "text/html": [
       "<div>\n",
       "<style scoped>\n",
       "    .dataframe tbody tr th:only-of-type {\n",
       "        vertical-align: middle;\n",
       "    }\n",
       "\n",
       "    .dataframe tbody tr th {\n",
       "        vertical-align: top;\n",
       "    }\n",
       "\n",
       "    .dataframe thead th {\n",
       "        text-align: right;\n",
       "    }\n",
       "</style>\n",
       "<table border=\"1\" class=\"dataframe\">\n",
       "  <thead>\n",
       "    <tr style=\"text-align: right;\">\n",
       "      <th></th>\n",
       "      <th>R&amp;D Spend</th>\n",
       "      <th>Administration</th>\n",
       "      <th>Marketing Spend</th>\n",
       "      <th>State</th>\n",
       "      <th>Profit</th>\n",
       "    </tr>\n",
       "  </thead>\n",
       "  <tbody>\n",
       "    <tr>\n",
       "      <th>0</th>\n",
       "      <td>165349.20</td>\n",
       "      <td>136897.800</td>\n",
       "      <td>471784.1000</td>\n",
       "      <td>New York</td>\n",
       "      <td>192261.83000</td>\n",
       "    </tr>\n",
       "    <tr>\n",
       "      <th>1</th>\n",
       "      <td>162597.70</td>\n",
       "      <td>151377.590</td>\n",
       "      <td>443898.5300</td>\n",
       "      <td>California</td>\n",
       "      <td>191792.06000</td>\n",
       "    </tr>\n",
       "    <tr>\n",
       "      <th>2</th>\n",
       "      <td>153441.51</td>\n",
       "      <td>101145.550</td>\n",
       "      <td>407934.5400</td>\n",
       "      <td>Florida</td>\n",
       "      <td>191050.39000</td>\n",
       "    </tr>\n",
       "    <tr>\n",
       "      <th>3</th>\n",
       "      <td>144372.41</td>\n",
       "      <td>118671.850</td>\n",
       "      <td>383199.6200</td>\n",
       "      <td>New York</td>\n",
       "      <td>182901.99000</td>\n",
       "    </tr>\n",
       "    <tr>\n",
       "      <th>4</th>\n",
       "      <td>142107.34</td>\n",
       "      <td>91391.770</td>\n",
       "      <td>366168.4200</td>\n",
       "      <td>Florida</td>\n",
       "      <td>166187.94000</td>\n",
       "    </tr>\n",
       "    <tr>\n",
       "      <th>...</th>\n",
       "      <td>...</td>\n",
       "      <td>...</td>\n",
       "      <td>...</td>\n",
       "      <td>...</td>\n",
       "      <td>...</td>\n",
       "    </tr>\n",
       "    <tr>\n",
       "      <th>995</th>\n",
       "      <td>54135.00</td>\n",
       "      <td>118451.999</td>\n",
       "      <td>173232.6695</td>\n",
       "      <td>California</td>\n",
       "      <td>95279.96251</td>\n",
       "    </tr>\n",
       "    <tr>\n",
       "      <th>996</th>\n",
       "      <td>134970.00</td>\n",
       "      <td>130390.080</td>\n",
       "      <td>329204.0228</td>\n",
       "      <td>California</td>\n",
       "      <td>164336.60550</td>\n",
       "    </tr>\n",
       "    <tr>\n",
       "      <th>997</th>\n",
       "      <td>100275.47</td>\n",
       "      <td>241926.310</td>\n",
       "      <td>227142.8200</td>\n",
       "      <td>California</td>\n",
       "      <td>413956.48000</td>\n",
       "    </tr>\n",
       "    <tr>\n",
       "      <th>998</th>\n",
       "      <td>128456.23</td>\n",
       "      <td>321652.140</td>\n",
       "      <td>281692.3200</td>\n",
       "      <td>California</td>\n",
       "      <td>333962.19000</td>\n",
       "    </tr>\n",
       "    <tr>\n",
       "      <th>999</th>\n",
       "      <td>161181.72</td>\n",
       "      <td>270939.860</td>\n",
       "      <td>295442.1700</td>\n",
       "      <td>New York</td>\n",
       "      <td>476485.43000</td>\n",
       "    </tr>\n",
       "  </tbody>\n",
       "</table>\n",
       "<p>1000 rows × 5 columns</p>\n",
       "</div>"
      ],
      "text/plain": [
       "     R&D Spend  Administration  Marketing Spend       State        Profit\n",
       "0    165349.20      136897.800      471784.1000    New York  192261.83000\n",
       "1    162597.70      151377.590      443898.5300  California  191792.06000\n",
       "2    153441.51      101145.550      407934.5400     Florida  191050.39000\n",
       "3    144372.41      118671.850      383199.6200    New York  182901.99000\n",
       "4    142107.34       91391.770      366168.4200     Florida  166187.94000\n",
       "..         ...             ...              ...         ...           ...\n",
       "995   54135.00      118451.999      173232.6695  California   95279.96251\n",
       "996  134970.00      130390.080      329204.0228  California  164336.60550\n",
       "997  100275.47      241926.310      227142.8200  California  413956.48000\n",
       "998  128456.23      321652.140      281692.3200  California  333962.19000\n",
       "999  161181.72      270939.860      295442.1700    New York  476485.43000\n",
       "\n",
       "[1000 rows x 5 columns]"
      ]
     },
     "execution_count": 2,
     "metadata": {},
     "output_type": "execute_result"
    }
   ],
   "source": [
    "df=pd.read_csv('1000_Companies.csv')\n",
    "df"
   ]
  },
  {
   "cell_type": "raw",
   "id": "01ed5fdc",
   "metadata": {},
   "source": [
    "The dataset contains the following features:\n",
    "\n",
    "R&D Spend (float64): This feature represents the amount of money a startup spends on research and development activities. It indicates the investment made in creating new products, improving existing ones, or enhancing overall technological capabilities.\n",
    "\n",
    "Administration (float64): This feature represents the amount of money a startup spends on administrative tasks and overhead expenses. It includes costs associated with office space, utilities, salaries of non-production staff, and other general operational expenses.\n",
    "\n",
    "Marketing Spend (float64): This feature represents the amount of money a startup invests in marketing and promotional activities. It includes expenses related to advertising campaigns, online marketing efforts, public relations, and other initiatives aimed at increasing brand visibility and attracting customers.\n",
    "\n",
    "State (object): This feature captures the state in which each startup operates. It is represented as an object type, suggesting that it contains categorical or textual information about the geographical location of the company. The state information can be useful for analyzing regional trends or identifying potential variations in operating costs and profits across different locations.\n",
    "\n",
    "Profit (float64): This feature represents the profitability of each startup. It indicates the financial gain or loss generated by the company within a specific period. Profit is typically measured as the revenue earned minus the total operating costs incurred, including R&D spend, administration expenses, marketing spend, and other relevant factors.\n"
   ]
  },
  {
   "cell_type": "code",
   "execution_count": 3,
   "id": "be1ec924",
   "metadata": {},
   "outputs": [
    {
     "name": "stdout",
     "output_type": "stream",
     "text": [
      "<class 'pandas.core.frame.DataFrame'>\n",
      "RangeIndex: 1000 entries, 0 to 999\n",
      "Data columns (total 5 columns):\n",
      " #   Column           Non-Null Count  Dtype  \n",
      "---  ------           --------------  -----  \n",
      " 0   R&D Spend        1000 non-null   float64\n",
      " 1   Administration   1000 non-null   float64\n",
      " 2   Marketing Spend  1000 non-null   float64\n",
      " 3   State            1000 non-null   object \n",
      " 4   Profit           1000 non-null   float64\n",
      "dtypes: float64(4), object(1)\n",
      "memory usage: 39.2+ KB\n"
     ]
    }
   ],
   "source": [
    "df.info()"
   ]
  },
  {
   "cell_type": "code",
   "execution_count": 4,
   "id": "8baafd10",
   "metadata": {},
   "outputs": [
    {
     "data": {
      "text/plain": [
       "California    344\n",
       "New York      334\n",
       "Florida       322\n",
       "Name: State, dtype: int64"
      ]
     },
     "execution_count": 4,
     "metadata": {},
     "output_type": "execute_result"
    }
   ],
   "source": [
    "df['State'].value_counts()"
   ]
  },
  {
   "cell_type": "code",
   "execution_count": 5,
   "id": "ebd30d4a",
   "metadata": {},
   "outputs": [
    {
     "data": {
      "text/plain": [
       "(1000, 5)"
      ]
     },
     "execution_count": 5,
     "metadata": {},
     "output_type": "execute_result"
    }
   ],
   "source": [
    "df.shape"
   ]
  },
  {
   "cell_type": "code",
   "execution_count": 6,
   "id": "c5c1fe88",
   "metadata": {},
   "outputs": [
    {
     "data": {
      "text/html": [
       "<div>\n",
       "<style scoped>\n",
       "    .dataframe tbody tr th:only-of-type {\n",
       "        vertical-align: middle;\n",
       "    }\n",
       "\n",
       "    .dataframe tbody tr th {\n",
       "        vertical-align: top;\n",
       "    }\n",
       "\n",
       "    .dataframe thead th {\n",
       "        text-align: right;\n",
       "    }\n",
       "</style>\n",
       "<table border=\"1\" class=\"dataframe\">\n",
       "  <thead>\n",
       "    <tr style=\"text-align: right;\">\n",
       "      <th></th>\n",
       "      <th>R&amp;D Spend</th>\n",
       "      <th>Administration</th>\n",
       "      <th>Marketing Spend</th>\n",
       "      <th>Profit</th>\n",
       "    </tr>\n",
       "  </thead>\n",
       "  <tbody>\n",
       "    <tr>\n",
       "      <th>count</th>\n",
       "      <td>1000.000000</td>\n",
       "      <td>1000.000000</td>\n",
       "      <td>1000.000000</td>\n",
       "      <td>1000.000000</td>\n",
       "    </tr>\n",
       "    <tr>\n",
       "      <th>mean</th>\n",
       "      <td>81668.927200</td>\n",
       "      <td>122963.897612</td>\n",
       "      <td>226205.058419</td>\n",
       "      <td>119546.164656</td>\n",
       "    </tr>\n",
       "    <tr>\n",
       "      <th>std</th>\n",
       "      <td>46537.567891</td>\n",
       "      <td>12613.927535</td>\n",
       "      <td>91578.393542</td>\n",
       "      <td>42888.633848</td>\n",
       "    </tr>\n",
       "    <tr>\n",
       "      <th>min</th>\n",
       "      <td>0.000000</td>\n",
       "      <td>51283.140000</td>\n",
       "      <td>0.000000</td>\n",
       "      <td>14681.400000</td>\n",
       "    </tr>\n",
       "    <tr>\n",
       "      <th>25%</th>\n",
       "      <td>43084.500000</td>\n",
       "      <td>116640.684850</td>\n",
       "      <td>150969.584600</td>\n",
       "      <td>85943.198543</td>\n",
       "    </tr>\n",
       "    <tr>\n",
       "      <th>50%</th>\n",
       "      <td>79936.000000</td>\n",
       "      <td>122421.612150</td>\n",
       "      <td>224517.887350</td>\n",
       "      <td>117641.466300</td>\n",
       "    </tr>\n",
       "    <tr>\n",
       "      <th>75%</th>\n",
       "      <td>124565.500000</td>\n",
       "      <td>129139.118000</td>\n",
       "      <td>308189.808525</td>\n",
       "      <td>155577.107425</td>\n",
       "    </tr>\n",
       "    <tr>\n",
       "      <th>max</th>\n",
       "      <td>165349.200000</td>\n",
       "      <td>321652.140000</td>\n",
       "      <td>471784.100000</td>\n",
       "      <td>476485.430000</td>\n",
       "    </tr>\n",
       "  </tbody>\n",
       "</table>\n",
       "</div>"
      ],
      "text/plain": [
       "           R&D Spend  Administration  Marketing Spend         Profit\n",
       "count    1000.000000     1000.000000      1000.000000    1000.000000\n",
       "mean    81668.927200   122963.897612    226205.058419  119546.164656\n",
       "std     46537.567891    12613.927535     91578.393542   42888.633848\n",
       "min         0.000000    51283.140000         0.000000   14681.400000\n",
       "25%     43084.500000   116640.684850    150969.584600   85943.198543\n",
       "50%     79936.000000   122421.612150    224517.887350  117641.466300\n",
       "75%    124565.500000   129139.118000    308189.808525  155577.107425\n",
       "max    165349.200000   321652.140000    471784.100000  476485.430000"
      ]
     },
     "execution_count": 6,
     "metadata": {},
     "output_type": "execute_result"
    }
   ],
   "source": [
    "df.describe()"
   ]
  },
  {
   "cell_type": "code",
   "execution_count": 7,
   "id": "f06a5cf0",
   "metadata": {},
   "outputs": [
    {
     "data": {
      "text/plain": [
       "Index(['R&D Spend', 'Administration', 'Marketing Spend', 'State', 'Profit'], dtype='object')"
      ]
     },
     "execution_count": 7,
     "metadata": {},
     "output_type": "execute_result"
    }
   ],
   "source": [
    "df.columns"
   ]
  },
  {
   "cell_type": "markdown",
   "id": "65a53895",
   "metadata": {},
   "source": [
    "# data visualization"
   ]
  },
  {
   "cell_type": "code",
   "execution_count": 8,
   "id": "560ef3ff",
   "metadata": {},
   "outputs": [
    {
     "data": {
      "text/plain": [
       "<AxesSubplot:xlabel='Marketing Spend', ylabel='Profit'>"
      ]
     },
     "execution_count": 8,
     "metadata": {},
     "output_type": "execute_result"
    },
    {
     "data": {
      "image/png": "[encoded data removed]",
      "text/plain": [
       "<Figure size 640x480 with 1 Axes>"
      ]
     },
     "metadata": {},
     "output_type": "display_data"
    }
   ],
   "source": [
    "sns.regplot(data=df,x='Marketing Spend',y='Profit')  "
   ]
  },
  {
   "cell_type": "code",
   "execution_count": 9,
   "id": "6bf2cbf5",
   "metadata": {},
   "outputs": [
    {
     "data": {
      "text/plain": [
       "<AxesSubplot:xlabel='R&D Spend', ylabel='Profit'>"
      ]
     },
     "execution_count": 9,
     "metadata": {},
     "output_type": "execute_result"
    },
    {
     "data": {
      "image/png": "[encoded data removed]",
      "text/plain": [
       "<Figure size 640x480 with 1 Axes>"
      ]
     },
     "metadata": {},
     "output_type": "display_data"
    }
   ],
   "source": [
    "sns.regplot(data=df,x='R&D Spend',y='Profit')  "
   ]
  },
  {
   "cell_type": "raw",
   "id": "6c1450c2",
   "metadata": {},
   "source": [
    "We can see that there is a positive correlation between profit and Marketing Spend, as well as profit and R&D Spend, considering the level of correlation observed."
   ]
  },
  {
   "cell_type": "code",
   "execution_count": 10,
   "id": "b5492c6d",
   "metadata": {},
   "outputs": [
    {
     "data": {
      "text/plain": [
       "<AxesSubplot:xlabel='State', ylabel='count'>"
      ]
     },
     "execution_count": 10,
     "metadata": {},
     "output_type": "execute_result"
    },
    {
     "data": {
      "image/png": "[encoded data removed]",
      "text/plain": [
       "<Figure size 640x480 with 1 Axes>"
      ]
     },
     "metadata": {},
     "output_type": "display_data"
    }
   ],
   "source": [
    "sns.countplot(x='State',data=df)"
   ]
  },
  {
   "cell_type": "markdown",
   "id": "e846eb32",
   "metadata": {},
   "source": [
    "The three states (New York, California, Florida) have equal quantities in this study"
   ]
  },
  {
   "cell_type": "markdown",
   "id": "c45b8a90",
   "metadata": {},
   "source": [
    "# Estimating correlation coefficients\n",
    "Our dataset is very small. So, we can compute the standard correlation coefficient between every pair of attributes. We can compute it using the df.corr() method as follows:"
   ]
  },
  {
   "cell_type": "code",
   "execution_count": 11,
   "id": "7d202846",
   "metadata": {},
   "outputs": [
    {
     "data": {
      "image/png": "[encoded data removed]",
      "text/plain": [
       "<Figure size 640x480 with 2 Axes>"
      ]
     },
     "metadata": {},
     "output_type": "display_data"
    }
   ],
   "source": [
    "import seaborn as sns\n",
    "sns.heatmap(df.corr(),annot=True)\n",
    "plt.show()"
   ]
  },
  {
   "cell_type": "raw",
   "id": "f3a64948",
   "metadata": {},
   "source": [
    "Interpretation:\n",
    "\n",
    "- The correlation coefficient ranges from -1 to +1.\n",
    "\n",
    "-When it is close to +1, this signifies a strong positive correlation. Thus, we observe a strong positive correlation between Profit and R&D Spend, Profit and Marketing Spend, and a slightly weaker correlation between Profit and Administration\t\n"
   ]
  },
  {
   "cell_type": "code",
   "execution_count": 12,
   "id": "bf9d5269",
   "metadata": {},
   "outputs": [
    {
     "data": {
      "text/html": [
       "<div>\n",
       "<style scoped>\n",
       "    .dataframe tbody tr th:only-of-type {\n",
       "        vertical-align: middle;\n",
       "    }\n",
       "\n",
       "    .dataframe tbody tr th {\n",
       "        vertical-align: top;\n",
       "    }\n",
       "\n",
       "    .dataframe thead th {\n",
       "        text-align: right;\n",
       "    }\n",
       "</style>\n",
       "<table border=\"1\" class=\"dataframe\">\n",
       "  <thead>\n",
       "    <tr style=\"text-align: right;\">\n",
       "      <th></th>\n",
       "      <th>R&amp;D Spend</th>\n",
       "      <th>Administration</th>\n",
       "      <th>Marketing Spend</th>\n",
       "      <th>State</th>\n",
       "      <th>Profit</th>\n",
       "    </tr>\n",
       "  </thead>\n",
       "  <tbody>\n",
       "    <tr>\n",
       "      <th>0</th>\n",
       "      <td>165349.20</td>\n",
       "      <td>136897.80</td>\n",
       "      <td>471784.10</td>\n",
       "      <td>New York</td>\n",
       "      <td>192261.83</td>\n",
       "    </tr>\n",
       "    <tr>\n",
       "      <th>1</th>\n",
       "      <td>162597.70</td>\n",
       "      <td>151377.59</td>\n",
       "      <td>443898.53</td>\n",
       "      <td>California</td>\n",
       "      <td>191792.06</td>\n",
       "    </tr>\n",
       "    <tr>\n",
       "      <th>2</th>\n",
       "      <td>153441.51</td>\n",
       "      <td>101145.55</td>\n",
       "      <td>407934.54</td>\n",
       "      <td>Florida</td>\n",
       "      <td>191050.39</td>\n",
       "    </tr>\n",
       "    <tr>\n",
       "      <th>3</th>\n",
       "      <td>144372.41</td>\n",
       "      <td>118671.85</td>\n",
       "      <td>383199.62</td>\n",
       "      <td>New York</td>\n",
       "      <td>182901.99</td>\n",
       "    </tr>\n",
       "    <tr>\n",
       "      <th>4</th>\n",
       "      <td>142107.34</td>\n",
       "      <td>91391.77</td>\n",
       "      <td>366168.42</td>\n",
       "      <td>Florida</td>\n",
       "      <td>166187.94</td>\n",
       "    </tr>\n",
       "  </tbody>\n",
       "</table>\n",
       "</div>"
      ],
      "text/plain": [
       "   R&D Spend  Administration  Marketing Spend       State     Profit\n",
       "0  165349.20       136897.80        471784.10    New York  192261.83\n",
       "1  162597.70       151377.59        443898.53  California  191792.06\n",
       "2  153441.51       101145.55        407934.54     Florida  191050.39\n",
       "3  144372.41       118671.85        383199.62    New York  182901.99\n",
       "4  142107.34        91391.77        366168.42     Florida  166187.94"
      ]
     },
     "execution_count": 12,
     "metadata": {},
     "output_type": "execute_result"
    }
   ],
   "source": [
    "df.head()"
   ]
  },
  {
   "cell_type": "code",
   "execution_count": 13,
   "id": "38048c2f",
   "metadata": {},
   "outputs": [
    {
     "data": {
      "text/html": [
       "<div>\n",
       "<style scoped>\n",
       "    .dataframe tbody tr th:only-of-type {\n",
       "        vertical-align: middle;\n",
       "    }\n",
       "\n",
       "    .dataframe tbody tr th {\n",
       "        vertical-align: top;\n",
       "    }\n",
       "\n",
       "    .dataframe thead th {\n",
       "        text-align: right;\n",
       "    }\n",
       "</style>\n",
       "<table border=\"1\" class=\"dataframe\">\n",
       "  <thead>\n",
       "    <tr style=\"text-align: right;\">\n",
       "      <th></th>\n",
       "      <th>R&amp;D Spend</th>\n",
       "      <th>Administration</th>\n",
       "      <th>Marketing Spend</th>\n",
       "      <th>State</th>\n",
       "      <th>Profit</th>\n",
       "    </tr>\n",
       "  </thead>\n",
       "  <tbody>\n",
       "    <tr>\n",
       "      <th>0</th>\n",
       "      <td>165349.20</td>\n",
       "      <td>136897.800</td>\n",
       "      <td>471784.1000</td>\n",
       "      <td>0.0</td>\n",
       "      <td>192261.83000</td>\n",
       "    </tr>\n",
       "    <tr>\n",
       "      <th>1</th>\n",
       "      <td>162597.70</td>\n",
       "      <td>151377.590</td>\n",
       "      <td>443898.5300</td>\n",
       "      <td>1.0</td>\n",
       "      <td>191792.06000</td>\n",
       "    </tr>\n",
       "    <tr>\n",
       "      <th>2</th>\n",
       "      <td>153441.51</td>\n",
       "      <td>101145.550</td>\n",
       "      <td>407934.5400</td>\n",
       "      <td>0.0</td>\n",
       "      <td>191050.39000</td>\n",
       "    </tr>\n",
       "    <tr>\n",
       "      <th>3</th>\n",
       "      <td>144372.41</td>\n",
       "      <td>118671.850</td>\n",
       "      <td>383199.6200</td>\n",
       "      <td>0.0</td>\n",
       "      <td>182901.99000</td>\n",
       "    </tr>\n",
       "    <tr>\n",
       "      <th>4</th>\n",
       "      <td>142107.34</td>\n",
       "      <td>91391.770</td>\n",
       "      <td>366168.4200</td>\n",
       "      <td>0.0</td>\n",
       "      <td>166187.94000</td>\n",
       "    </tr>\n",
       "    <tr>\n",
       "      <th>...</th>\n",
       "      <td>...</td>\n",
       "      <td>...</td>\n",
       "      <td>...</td>\n",
       "      <td>...</td>\n",
       "      <td>...</td>\n",
       "    </tr>\n",
       "    <tr>\n",
       "      <th>995</th>\n",
       "      <td>54135.00</td>\n",
       "      <td>118451.999</td>\n",
       "      <td>173232.6695</td>\n",
       "      <td>1.0</td>\n",
       "      <td>95279.96251</td>\n",
       "    </tr>\n",
       "    <tr>\n",
       "      <th>996</th>\n",
       "      <td>134970.00</td>\n",
       "      <td>130390.080</td>\n",
       "      <td>329204.0228</td>\n",
       "      <td>1.0</td>\n",
       "      <td>164336.60550</td>\n",
       "    </tr>\n",
       "    <tr>\n",
       "      <th>997</th>\n",
       "      <td>100275.47</td>\n",
       "      <td>241926.310</td>\n",
       "      <td>227142.8200</td>\n",
       "      <td>1.0</td>\n",
       "      <td>413956.48000</td>\n",
       "    </tr>\n",
       "    <tr>\n",
       "      <th>998</th>\n",
       "      <td>128456.23</td>\n",
       "      <td>321652.140</td>\n",
       "      <td>281692.3200</td>\n",
       "      <td>1.0</td>\n",
       "      <td>333962.19000</td>\n",
       "    </tr>\n",
       "    <tr>\n",
       "      <th>999</th>\n",
       "      <td>161181.72</td>\n",
       "      <td>270939.860</td>\n",
       "      <td>295442.1700</td>\n",
       "      <td>0.0</td>\n",
       "      <td>476485.43000</td>\n",
       "    </tr>\n",
       "  </tbody>\n",
       "</table>\n",
       "<p>1000 rows × 5 columns</p>\n",
       "</div>"
      ],
      "text/plain": [
       "     R&D Spend  Administration  Marketing Spend  State        Profit\n",
       "0    165349.20      136897.800      471784.1000    0.0  192261.83000\n",
       "1    162597.70      151377.590      443898.5300    1.0  191792.06000\n",
       "2    153441.51      101145.550      407934.5400    0.0  191050.39000\n",
       "3    144372.41      118671.850      383199.6200    0.0  182901.99000\n",
       "4    142107.34       91391.770      366168.4200    0.0  166187.94000\n",
       "..         ...             ...              ...    ...           ...\n",
       "995   54135.00      118451.999      173232.6695    1.0   95279.96251\n",
       "996  134970.00      130390.080      329204.0228    1.0  164336.60550\n",
       "997  100275.47      241926.310      227142.8200    1.0  413956.48000\n",
       "998  128456.23      321652.140      281692.3200    1.0  333962.19000\n",
       "999  161181.72      270939.860      295442.1700    0.0  476485.43000\n",
       "\n",
       "[1000 rows x 5 columns]"
      ]
     },
     "execution_count": 13,
     "metadata": {},
     "output_type": "execute_result"
    }
   ],
   "source": [
    "#encoding data\n",
    "from sklearn.preprocessing import OneHotEncoder,LabelEncoder\n",
    "one=OneHotEncoder()\n",
    "df['State']=one.fit_transform(df[['State']]).toarray()\n",
    "df"
   ]
  },
  {
   "cell_type": "code",
   "execution_count": 14,
   "id": "b9ead7b5",
   "metadata": {},
   "outputs": [],
   "source": [
    "#scaling data\n",
    "from sklearn.preprocessing import MinMaxScaler\n",
    "scale=MinMaxScaler()\n",
    "df[['R&D Spend','Administration','Marketing Spend']]=scale.fit_transform(df[['R&D Spend','Administration','Marketing Spend']])"
   ]
  },
  {
   "cell_type": "markdown",
   "id": "a9908d66",
   "metadata": {},
   "source": [
    "# splitting data"
   ]
  },
  {
   "cell_type": "code",
   "execution_count": 15,
   "id": "e65f67e4",
   "metadata": {},
   "outputs": [],
   "source": [
    "X=df.iloc[:,:-1]"
   ]
  },
  {
   "cell_type": "code",
   "execution_count": 16,
   "id": "015a3cdb",
   "metadata": {},
   "outputs": [],
   "source": [
    "y=df.iloc[:,4]"
   ]
  },
  {
   "cell_type": "code",
   "execution_count": 17,
   "id": "2d04f5d7",
   "metadata": {},
   "outputs": [],
   "source": [
    "from sklearn.model_selection import train_test_split"
   ]
  },
  {
   "cell_type": "code",
   "execution_count": 18,
   "id": "8ed46851",
   "metadata": {},
   "outputs": [],
   "source": [
    "X_train,X_test,y_train,y_test=train_test_split(X,y,test_size=0.2,random_state=22)"
   ]
  },
  {
   "cell_type": "markdown",
   "id": "d7f7ac3c",
   "metadata": {},
   "source": [
    "# fitting data"
   ]
  },
  {
   "cell_type": "code",
   "execution_count": 19,
   "id": "eac531b2",
   "metadata": {},
   "outputs": [
    {
     "data": {
      "text/plain": [
       "LinearRegression()"
      ]
     },
     "execution_count": 19,
     "metadata": {},
     "output_type": "execute_result"
    }
   ],
   "source": [
    "import numpy as np\n",
    "from sklearn.linear_model import LinearRegression\n",
    "Lin=LinearRegression()\n",
    "Lin.fit(X_train,y_train)"
   ]
  },
  {
   "cell_type": "code",
   "execution_count": 20,
   "id": "04e907fc",
   "metadata": {},
   "outputs": [
    {
     "data": {
      "text/plain": [
       "array([ 51189.74661875, 181815.43409755,  57176.48612078, 109156.62978042])"
      ]
     },
     "execution_count": 20,
     "metadata": {},
     "output_type": "execute_result"
    }
   ],
   "source": [
    "y_pred=Lin.predict(X_test)\n",
    "y_pred[:4]"
   ]
  },
  {
   "cell_type": "code",
   "execution_count": 21,
   "id": "3f8148ab",
   "metadata": {},
   "outputs": [
    {
     "data": {
      "text/plain": [
       "(800,)"
      ]
     },
     "execution_count": 21,
     "metadata": {},
     "output_type": "execute_result"
    }
   ],
   "source": [
    "y_train.shape"
   ]
  },
  {
   "cell_type": "code",
   "execution_count": 22,
   "id": "0485afc8",
   "metadata": {},
   "outputs": [
    {
     "data": {
      "text/plain": [
       "Index(['R&D Spend', 'Administration', 'Marketing Spend', 'State'], dtype='object')"
      ]
     },
     "execution_count": 22,
     "metadata": {},
     "output_type": "execute_result"
    }
   ],
   "source": [
    "df.columns[:4]"
   ]
  },
  {
   "cell_type": "code",
   "execution_count": 23,
   "id": "bc13e7c8",
   "metadata": {},
   "outputs": [
    {
     "name": "stdout",
     "output_type": "stream",
     "text": [
      "[101709.20786262 204701.47390231  31673.82846347    567.22442654]\n"
     ]
    }
   ],
   "source": [
    "#caliculating the coefficient\n",
    "print(Lin.coef_)"
   ]
  },
  {
   "cell_type": "markdown",
   "id": "0777d42b",
   "metadata": {},
   "source": [
    "The feature that has a higher correlation with income is R&D Spend"
   ]
  },
  {
   "cell_type": "code",
   "execution_count": 24,
   "id": "d667c37d",
   "metadata": {},
   "outputs": [
    {
     "name": "stdout",
     "output_type": "stream",
     "text": [
      "-488.914097062996\n"
     ]
    }
   ],
   "source": [
    "#calculate intercept\n",
    "print(Lin.intercept_)"
   ]
  },
  {
   "cell_type": "code",
   "execution_count": 25,
   "id": "52a30c88",
   "metadata": {},
   "outputs": [
    {
     "data": {
      "text/plain": [
       "866     51286.51978\n",
       "191    181579.62250\n",
       "732     57258.01646\n",
       "657    109105.81410\n",
       "Name: Profit, dtype: float64"
      ]
     },
     "execution_count": 25,
     "metadata": {},
     "output_type": "execute_result"
    }
   ],
   "source": [
    "y_test[:4]"
   ]
  },
  {
   "cell_type": "markdown",
   "id": "6fdfc0ae",
   "metadata": {},
   "source": [
    "# evaluating model"
   ]
  },
  {
   "cell_type": "code",
   "execution_count": 26,
   "id": "de241551",
   "metadata": {},
   "outputs": [
    {
     "data": {
      "text/plain": [
       "0.9164744397742263"
      ]
     },
     "execution_count": 26,
     "metadata": {},
     "output_type": "execute_result"
    }
   ],
   "source": [
    "from sklearn.metrics import r2_score\n",
    "r2_score(y_test,y_pred)"
   ]
  },
  {
   "cell_type": "markdown",
   "id": "fccc52b1",
   "metadata": {},
   "source": [
    "# Plot scatter Plot"
   ]
  },
  {
   "cell_type": "code",
   "execution_count": 32,
   "id": "4634a8b5",
   "metadata": {},
   "outputs": [],
   "source": [
    "X=df.loc[:,'R&D Spend']\n",
    "y=df.iloc[:,4]\n",
    "\n",
    "from sklearn.model_selection import train_test_split\n",
    "X_train,X_test,y_train,y_test=train_test_split(X,y,test_size=0.2,random_state=22)\n"
   ]
  },
  {
   "cell_type": "code",
   "execution_count": 33,
   "id": "0213762e",
   "metadata": {},
   "outputs": [
    {
     "data": {
      "text/plain": [
       "LinearRegression()"
      ]
     },
     "execution_count": 33,
     "metadata": {},
     "output_type": "execute_result"
    }
   ],
   "source": [
    "Lin=LinearRegression()\n",
    "Lin.fit(X_train.values.reshape(-1,1),y_train)"
   ]
  },
  {
   "cell_type": "code",
   "execution_count": 34,
   "id": "851483f6",
   "metadata": {},
   "outputs": [],
   "source": [
    "y_pred=Lin.predict(X_test.values.reshape(-1,1))"
   ]
  },
  {
   "cell_type": "code",
   "execution_count": 35,
   "id": "e6d33b94",
   "metadata": {},
   "outputs": [
    {
     "data": {
      "text/plain": [
       "0.6447436484718589"
      ]
     },
     "execution_count": 35,
     "metadata": {},
     "output_type": "execute_result"
    }
   ],
   "source": [
    "r2_score(y_pred,y_test)#khso ykon bin 40% w 80%"
   ]
  },
  {
   "cell_type": "code",
   "execution_count": 36,
   "id": "1af0f3f3",
   "metadata": {},
   "outputs": [
    {
     "data": {
      "text/plain": [
       "[<matplotlib.lines.Line2D at 0x1960a9930d0>]"
      ]
     },
     "execution_count": 36,
     "metadata": {},
     "output_type": "execute_result"
    },
    {
     "data": {
      "image/png": "[encoded data removed]",
      "text/plain": [
       "<Figure size 640x480 with 1 Axes>"
      ]
     },
     "metadata": {},
     "output_type": "display_data"
    }
   ],
   "source": [
    "plt.scatter(X_train.values.reshape(-1,1),y_train,color='green')\n",
    "plt.plot(X_train,Lin.predict(X_train.values.reshape(-1,1)),color='blue')"
   ]
  },
  {
   "cell_type": "code",
   "execution_count": null,
   "id": "31be0434",
   "metadata": {},
   "outputs": [],
   "source": []
  },
  {
   "cell_type": "code",
   "execution_count": null,
   "id": "bc60363f",
   "metadata": {},
   "outputs": [],
   "source": []
  },
  {
   "cell_type": "code",
   "execution_count": null,
   "id": "2e5cc08a",
   "metadata": {},
   "outputs": [],
   "source": []
  },
  {
   "cell_type": "code",
   "execution_count": null,
   "id": "6bb0c322",
   "metadata": {},
   "outputs": [],
   "source": []
  },
  {
   "cell_type": "code",
   "execution_count": null,
   "id": "e6f91ca1",
   "metadata": {},
   "outputs": [],
   "source": []
  },
  {
   "cell_type": "code",
   "execution_count": null,
   "id": "eb68897b",
   "metadata": {},
   "outputs": [],
   "source": []
  },
  {
   "cell_type": "code",
   "execution_count": null,
   "id": "47682528",
   "metadata": {},
   "outputs": [],
   "source": []
  },
  {
   "cell_type": "code",
   "execution_count": null,
   "id": "61f23db2",
   "metadata": {},
   "outputs": [],
   "source": []
  },
  {
   "cell_type": "code",
   "execution_count": null,
   "id": "cbdd7a0e",
   "metadata": {},
   "outputs": [],
   "source": []
  },
  {
   "cell_type": "code",
   "execution_count": null,
   "id": "7069be78",
   "metadata": {},
   "outputs": [],
   "source": []
  },
  {
   "cell_type": "code",
   "execution_count": null,
   "id": "a0b33e46",
   "metadata": {},
   "outputs": [],
   "source": []
  },
  {
   "cell_type": "code",
   "execution_count": null,
   "id": "f2c7415d",
   "metadata": {},
   "outputs": [],
   "source": [
    "\n"
   ]
  }
 ],
 "metadata": {
  "kernelspec": {
   "display_name": "Python 3 (ipykernel)",
   "language": "python",
   "name": "python3"
  },
  "language_info": {
   "codemirror_mode": {
    "name": "ipython",
    "version": 3
   },
   "file_extension": ".py",
   "mimetype": "text/x-python",
   "name": "python",
   "nbconvert_exporter": "python",
   "pygments_lexer": "ipython3",
   "version": "3.9.13"
  }
 },
 "nbformat": 4,
 "nbformat_minor": 5
}
